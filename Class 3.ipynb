{
 "cells": [
  {
   "cell_type": "code",
   "execution_count": 1,
   "id": "7f189140-f221-4fcb-8963-1f5b23f81010",
   "metadata": {},
   "outputs": [],
   "source": [
    "# Simplified implementation of Queue (using built-ins)\n",
    "\n",
    "class Queue:\n",
    "    def __init__(self):\n",
    "        self.items = []\n",
    "\n",
    "    def enqueue(self,value):\n",
    "        self.items.insert(0, value)\n",
    "\n",
    "    def dequeue(self):\n",
    "        return self.items.pop()\n",
    "\n",
    "    # nice to have methods\n",
    "    def size(self):\n",
    "        return self.items[len(self.items)-1]\n",
    "\n",
    "    def is_empty(self):\n",
    "        return self.items ==[]"
   ]
  },
  {
   "cell_type": "markdown",
   "id": "b1fc44a5-c598-496c-a7ba-1754bcdc2d47",
   "metadata": {},
   "source": [
    "# Problem 1\n",
    "\n",
    "## Create a 'from scratch' implementation of Queue (QueueII)\n",
    "\n",
    "### Acceptance Criteria\n",
    "1. Built-ins are not allowed (no lists, or built-in methods)\n",
    "2. Your enqueue method must have a worst case time complexity of O(1) (constant)\n",
    "3. Your dequeue method must have a worst case time complexity of O(1) (constant)\n",
    "\n",
    "### Bonus\n",
    "1. Implement the size method\n",
    "2. Implement peek\n",
    "3. Implement is_empty\n",
    "\n",
    "### Note\n",
    "If you arent sure where to start, test the Queue class in the cell above it to know how it works."
   ]
  },
  {
   "cell_type": "code",
   "execution_count": 4,
   "id": "5bfbafef-f011-480e-ac11-712457a555f8",
   "metadata": {},
   "outputs": [
    {
     "name": "stdout",
     "output_type": "stream",
     "text": [
      "1\n",
      "2\n",
      "2\n",
      "False\n",
      "True\n"
     ]
    }
   ],
   "source": [
    "class QueueII:\n",
    "    class __Node:\n",
    "        def __init__(self, data):\n",
    "            self.data = data\n",
    "            self.next = None\n",
    "\n",
    "    def __init__(self):\n",
    "        self.front = None\n",
    "        self.rear = None\n",
    "        self.count = 0\n",
    "\n",
    "    def enqueue(self, value):\n",
    "        # Create a new node with the value given\n",
    "        new_node = self.__Node(value)\n",
    "        if not self.rear:  # if the queue is empty\n",
    "            self.front = self.rear = new_node\n",
    "        else:\n",
    "            self.rear.next = new_node\n",
    "            self.rear = new_node\n",
    "        self.count += 1\n",
    "\n",
    "    def dequeue(self):\n",
    "        if self.front:\n",
    "            datum = self.front.data\n",
    "            self.front = self.front.next\n",
    "            if not self.front:  # if the queue becomes empty\n",
    "                self.rear = None\n",
    "            self.count -= 1\n",
    "            return datum\n",
    "        raise IndexError('Queue is empty')\n",
    "\n",
    "    # nice to have methods\n",
    "    def size(self):\n",
    "        return self.count\n",
    "\n",
    "    def peek(self):\n",
    "        if self.front:\n",
    "            return self.front.data\n",
    "        raise IndexError('Queue is empty')\n",
    "\n",
    "    def is_empty(self):\n",
    "        return self.front is None\n",
    "\n",
    "\n",
    "queue = QueueII()\n",
    "queue.enqueue(1)\n",
    "queue.enqueue(2)\n",
    "queue.enqueue(3)\n",
    "print(queue.dequeue())  # Output: 1\n",
    "print(queue.peek())     # Output: 2\n",
    "print(queue.size())     # Output: 2\n",
    "print(queue.is_empty()) # Output: False\n",
    "queue.dequeue()\n",
    "queue.dequeue()\n",
    "print(queue.is_empty()) # Output: True"
   ]
  },
  {
   "cell_type": "code",
   "execution_count": 18,
   "id": "504238a4-9a0d-4623-a160-e6e31b78897e",
   "metadata": {},
   "outputs": [
    {
     "name": "stdout",
     "output_type": "stream",
     "text": [
      "[]\n",
      "['A']\n",
      "['A', 'B']\n",
      "['A', 'B', 'C']\n"
     ]
    }
   ],
   "source": [
    "mylist = []\n",
    "\n",
    "# How states impact what is displayed when I 'print' a python list:\n",
    "# Empty list\n",
    "print(mylist)\n",
    "\n",
    "# List with exactly one value\n",
    "mylist.append('A')\n",
    "print(mylist)\n",
    "\n",
    "# List with more than one value\n",
    "mylist.append('B')\n",
    "print(mylist)\n",
    "\n",
    "# help(mylist)\n",
    "\n",
    "mylist.insert(1000, 'C')\n",
    "print(mylist)"
   ]
  },
  {
   "cell_type": "code",
   "execution_count": 16,
   "id": "bc940ce4-7825-42ec-905a-40860a70b072",
   "metadata": {},
   "outputs": [],
   "source": [
    "class SinglyLinkedList:\n",
    "    class __Node:\n",
    "        def __init__(self, data):\n",
    "            self.data = data\n",
    "            self.next = None\n",
    "            \n",
    "    def __init__(self):\n",
    "        self.head = None\n",
    "        # Challenge for you: see if you can have and maintain a tail ref and how that impacts performance!\n",
    "\n",
    "    def append(self, value):\n",
    "        new_node = self.__Node(value)\n",
    "        if not self.head:\n",
    "            self.head = new_node\n",
    "        else:\n",
    "            current = self.head\n",
    "            while current.next:\n",
    "                current = current.next\n",
    "            current.next = new_node\n",
    "\n",
    "    def insert(self, index, value):\n",
    "        # This method has to insert a new node (with value) BEFORE the index, not after!\n",
    "        pass\n",
    "\n",
    "    def __str__(self):\n",
    "        # This dunder method must return a string at all times\n",
    "        out = '['\n",
    "        current = self.head\n",
    "        if current:\n",
    "            out += '%s' % current.data\n",
    "            current = current.next\n",
    "            while current:\n",
    "                out += ', %s' % current.data\n",
    "                current = current.next\n",
    "        out += ']'\n",
    "        return out"
   ]
  },
  {
   "cell_type": "code",
   "execution_count": 17,
   "id": "5c6adedd-1e29-438d-b5ea-19b14f62dca3",
   "metadata": {},
   "outputs": [
    {
     "name": "stdout",
     "output_type": "stream",
     "text": [
      "[]\n",
      "[1]\n",
      "[1, 2]\n"
     ]
    }
   ],
   "source": [
    "sll = SinglyLinkedList()\n",
    "# When the list is empty:\n",
    "print(sll)\n",
    "\n",
    "# when the list has 1 node:\n",
    "sll.append(1)\n",
    "print(sll)\n",
    "\n",
    "#when the list has more than 1 element:\n",
    "sll.append(2)\n",
    "print(sll)"
   ]
  },
  {
   "cell_type": "code",
   "execution_count": null,
   "id": "0d13e542-b16e-4272-a3db-a8f042ea3d5d",
   "metadata": {},
   "outputs": [],
   "source": []
  }
 ],
 "metadata": {
  "kernelspec": {
   "display_name": "Python 3 (ipykernel)",
   "language": "python",
   "name": "python3"
  },
  "language_info": {
   "codemirror_mode": {
    "name": "ipython",
    "version": 3
   },
   "file_extension": ".py",
   "mimetype": "text/x-python",
   "name": "python",
   "nbconvert_exporter": "python",
   "pygments_lexer": "ipython3",
   "version": "3.10.12"
  }
 },
 "nbformat": 4,
 "nbformat_minor": 5
}
