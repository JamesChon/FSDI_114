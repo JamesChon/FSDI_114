{
 "cells": [
  {
   "cell_type": "code",
   "execution_count": 1,
   "id": "b732f4d0-1d1f-427d-bfbd-c2986f61de29",
   "metadata": {},
   "outputs": [],
   "source": [
    "# Simplified implementation of Stack (using built-ins)\n",
    "\n",
    "class Stack:\n",
    "    def __init__(self):\n",
    "        self.items = []\n",
    "\n",
    "    def push(self, value):\n",
    "        self.items.append(value)\n",
    "\n",
    "    def pop(self):\n",
    "        return self.items.pop()\n",
    "\n",
    "    # nice to have methods\n",
    "    def size(self):\n",
    "        return len(self.items)\n",
    "\n",
    "    def peek(self):\n",
    "        return self.items[len(self.items)-1]\n",
    "\n",
    "    def is_empty(self):\n",
    "        return self.items == []"
   ]
  },
  {
   "cell_type": "code",
   "execution_count": 5,
   "id": "39600523-85d5-4308-b721-fd55fbdb727d",
   "metadata": {},
   "outputs": [
    {
     "data": {
      "text/plain": [
       "'nohC'"
      ]
     },
     "execution_count": 5,
     "metadata": {},
     "output_type": "execute_result"
    }
   ],
   "source": [
    "def invert_str(somestring):\n",
    "    stack = Stack()\n",
    "    for char in somestring:\n",
    "        stack.push(char)\n",
    "    out = ''\n",
    "    while not stack.is_empty():\n",
    "        out += stack.pop()\n",
    "    return out\n",
    "\n",
    "invert_str('Chon')"
   ]
  },
  {
   "cell_type": "code",
   "execution_count": 8,
   "id": "3a8bdff0-f92e-43c2-a76d-030c7a2b9859",
   "metadata": {},
   "outputs": [
    {
     "name": "stdout",
     "output_type": "stream",
     "text": [
      "140151898800528\n",
      "140151898800496\n"
     ]
    }
   ],
   "source": [
    "# In python, the primary data types are:\n",
    "# int, bool, float\n",
    "\n",
    "x = 5\n",
    "y = x\n",
    "x += 1\n",
    "\n",
    "print(id(x))\n",
    "print(id(y))"
   ]
  },
  {
   "cell_type": "code",
   "execution_count": 9,
   "id": "ec8b40a0-8c3b-460d-87d2-86d08fd34253",
   "metadata": {},
   "outputs": [
    {
     "name": "stdout",
     "output_type": "stream",
     "text": [
      "140151709017024\n",
      "140151709017024\n"
     ]
    }
   ],
   "source": [
    "# Other data types and structures pass by reference\n",
    "\n",
    "x = [1, 2, 3]\n",
    "y = x\n",
    "y.append(4)\n",
    "\n",
    "print(id(x))\n",
    "print(id(y))"
   ]
  },
  {
   "cell_type": "code",
   "execution_count": 1,
   "id": "c4c54857-da31-4a14-a48d-a538bef0bbfe",
   "metadata": {},
   "outputs": [],
   "source": [
    "class StackII:\n",
    "    class __Node:\n",
    "        def __init__(self, data):\n",
    "            self.data = data\n",
    "            self.below = None\n",
    "\n",
    "    def __init__(self):\n",
    "        self.top = None\n",
    "\n",
    "    def push(self, value):\n",
    "        # Create a new node with the value given\n",
    "        new_node = self.__Node(value)\n",
    "        if not self.top: # this is the same as 'if self.top == None'\n",
    "            self.top = new_node\n",
    "        # # Set the new node reference to the current top node\n",
    "        # new_node.below = self.top\n",
    "        # # Update the top reference to the new node\n",
    "        # self.top = new_node\n",
    "\n",
    "    def pop(self):\n",
    "        if self.top:\n",
    "            datum = self.top.data\n",
    "            self.top = self.top.below \n",
    "            return datum\n",
    "        raise IndexError('Stack is empty')\n",
    "\n",
    "    # nice to have methods\n",
    "    def size(self):\n",
    "        current = self.top\n",
    "        count = 0\n",
    "        if self.top:\n",
    "            while current.below:\n",
    "                current = current.below\n",
    "                count += 1\n",
    "            return count\n",
    "\n",
    "    def peek(self):\n",
    "        return self.top.data\n",
    "\n",
    "    def is_empty(self):\n",
    "        return self.top == None"
   ]
  },
  {
   "cell_type": "code",
   "execution_count": null,
   "id": "5b152549-49d1-43fa-99c8-b2aed18499bd",
   "metadata": {},
   "outputs": [],
   "source": []
  }
 ],
 "metadata": {
  "kernelspec": {
   "display_name": "Python 3 (ipykernel)",
   "language": "python",
   "name": "python3"
  },
  "language_info": {
   "codemirror_mode": {
    "name": "ipython",
    "version": 3
   },
   "file_extension": ".py",
   "mimetype": "text/x-python",
   "name": "python",
   "nbconvert_exporter": "python",
   "pygments_lexer": "ipython3",
   "version": "3.10.12"
  }
 },
 "nbformat": 4,
 "nbformat_minor": 5
}
