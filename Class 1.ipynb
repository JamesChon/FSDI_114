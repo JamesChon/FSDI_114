{
 "cells": [
  {
   "cell_type": "code",
   "execution_count": 1,
   "id": "4febd7d1-5bc8-4255-a450-5649d9cea7f7",
   "metadata": {},
   "outputs": [
    {
     "name": "stdout",
     "output_type": "stream",
     "text": [
      "h\n",
      "e\n",
      "l\n",
      "l\n",
      "o\n",
      ",\n",
      " \n",
      "w\n",
      "o\n",
      "r\n",
      "l\n",
      "d\n",
      "!\n"
     ]
    }
   ],
   "source": [
    "for char in 'hello, world!':\n",
    "    print(char)\n",
    "\n",
    "# Press shift+enter when you're finished typing this."
   ]
  },
  {
   "cell_type": "markdown",
   "id": "82c2919a-94e2-40a2-a025-65ec0aed4386",
   "metadata": {},
   "source": [
    "# Problem 1\n",
    "## Anagram check\n",
    "\n",
    "Given two strings as inputs to your function, determine if these are anagrams of each other. Return `True` if they are, `False` otherwise.\n",
    "\n",
    "### Criteria\n",
    "Two strings are anagrams if all the criteria below are met:\n",
    "1. THey must be of equal length.\n",
    "2. 2. THey must use the same letters, the same amount of times.\n",
    "  \n",
    "```\n",
    "Examples:\n",
    "anagram_check('heart', 'earth') should return True\n",
    "anagram_check('scar', 'cars') should return True\n",
    "anagram_check('star', 'rats') should return True\n",
    "anagram_check('aaab', 'aabb') should return False\n",
    "```"
   ]
  },
  {
   "cell_type": "code",
   "execution_count": 1,
   "id": "9e9d265c-a3ce-4385-8c8b-f69e324e64e1",
   "metadata": {},
   "outputs": [],
   "source": [
    "# 1. Define a function 'anagram_check' with two parameters (str1) and (str2)\n",
    "# 2. Convert strings to lowercase\n",
    "# 3. Remove spaces for each string\n",
    "# 4. If length of str1 is not equal to str2, return False\n",
    "# 5. Check the presence of each letter of str1 in str2\n",
    "# 6. if there is no letter present, it returns False\n",
    "# 7. Remove the char matches in str2\n",
    "# 8. Increment a counter everytime a letter is reviewed\n",
    "# 9. If counter is equals to length of str1, return True"
   ]
  },
  {
   "cell_type": "code",
   "execution_count": 3,
   "id": "6fd5f755-8fa6-497f-9544-14c50e5ee53e",
   "metadata": {},
   "outputs": [
    {
     "name": "stdout",
     "output_type": "stream",
     "text": [
      "False\n"
     ]
    }
   ],
   "source": [
    "# Avoid this, this is a poor solution: \n",
    "def anagram_check(str1, str2):\n",
    "    return sorted(str1) == sorted(str2)\n",
    "\n",
    "print(anagram_check('I am Lord Voldemort', 'Tom Marvolo Riddle'))\n",
    "\n",
    "# In the popular Harry Potter saga, the villain's name 'Voldemort' is explained to have a chosen this name as it is an anagram\n",
    "# of his 'human name'. 'Tom Marvolo Riddle' is an anagram of 'I am Lord Voldemort'"
   ]
  },
  {
   "cell_type": "code",
   "execution_count": 9,
   "id": "23a20429-b0c0-42eb-a24e-d3aa6ec5ea7a",
   "metadata": {},
   "outputs": [
    {
     "name": "stdout",
     "output_type": "stream",
     "text": [
      "True\n",
      "True\n",
      "False\n"
     ]
    }
   ],
   "source": [
    "### test test test\n",
    "def anagram_check(str1, str2): \n",
    "    return sorted(str1) == sorted(str2)\n",
    "\n",
    "print(anagram_check('listen', 'silent'))\n",
    "print(anagram_check('elbow', 'below'))\n",
    "print(anagram_check('python', 'java'))"
   ]
  },
  {
   "cell_type": "code",
   "execution_count": null,
   "id": "f6eb3d28-714a-4976-9f4d-5b65b2baa434",
   "metadata": {},
   "outputs": [],
   "source": []
  }
 ],
 "metadata": {
  "kernelspec": {
   "display_name": "Python 3 (ipykernel)",
   "language": "python",
   "name": "python3"
  },
  "language_info": {
   "codemirror_mode": {
    "name": "ipython",
    "version": 3
   },
   "file_extension": ".py",
   "mimetype": "text/x-python",
   "name": "python",
   "nbconvert_exporter": "python",
   "pygments_lexer": "ipython3",
   "version": "3.10.12"
  }
 },
 "nbformat": 4,
 "nbformat_minor": 5
}
